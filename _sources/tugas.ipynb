{
 "cells": [
  {
   "cell_type": "markdown",
   "metadata": {},
   "source": [
    "# **Pemodelan Time Series untuk Prediksi Jumlah Penumpang Kereta Api PT. KAI untuk wilayah Jawa(Jabodetabek+Non Jabodetabek)**"
   ]
  },
  {
   "cell_type": "markdown",
   "metadata": {},
   "source": [
    "## **Pendahuluan**"
   ]
  },
  {
   "cell_type": "markdown",
   "metadata": {},
   "source": [
    "### **Latar Belakang**"
   ]
  },
  {
   "cell_type": "markdown",
   "metadata": {},
   "source": [
    "PT Kereta Api Indonesia (PT. KAI) merupakan perusahaan transportasi nasional yang berperan penting dalam memobilisasi masyarakat dan barang di seluruh Indonesia. Untuk menghadapi tantangan operasional seperti fluktuasi jumlah penumpang yang dipengaruhi oleh faktor musiman, ekonomi, dan kebijakan pemerintah, PT. KAI perlu memanfaatkan teknologi prediksi guna meningkatkan efisiensi dan kualitas pelayanan. Proyek ini berfokus pada pemodelan time series untuk memprediksi jumlah penumpang di masa mendatang, sehingga membantu PT. KAI dalam pengambilan keputusan yang lebih tepat dan strategis.\n",
    "\n",
    "Visi PT. KAI adalah menjadi penyedia jasa perkeretaapian terbaik yang berfokus pada layanan pelanggan, efisiensi, dan kontribusi pada ekonomi nasional. Dengan misi untuk menyediakan layanan transportasi yang aman, nyaman, dan efisien, PT. KAI mengadopsi strategi bisnis berbasis digitalisasi dan optimasi kapasitas guna meningkatkan layanan pelanggan dan mengurangi biaya operasional. Proyek prediksi ini bertujuan untuk memberikan pemahaman lebih baik terhadap pola penumpang dan mendukung pengambilan keputusan dalam hal pengoperasian kereta api.\n",
    "\n",
    "Tujuan utama dari proyek ini adalah untuk membuat model yang memiliki akurasi tinggi dan juga dapat memprediksi jumlah penumpang yang akurat meskipun hanya memiliki beda nilai sedikit."
   ]
  },
  {
   "cell_type": "markdown",
   "metadata": {},
   "source": [
    "### **Pernyataan Masalah**"
   ]
  },
  {
   "cell_type": "markdown",
   "metadata": {},
   "source": [
    "1. Bagaimana cara untuk membangun model yang akurat dalam memprediksi jumlah penumpang kereta api di bulan depan?"
   ]
  },
  {
   "cell_type": "markdown",
   "metadata": {},
   "source": [
    "### **Tujuan**"
   ]
  },
  {
   "cell_type": "markdown",
   "metadata": {},
   "source": [
    "Tujuan dari proyek ini adalah untuk dapat membuat model prediksi jumlah penumpang kereta api PT. KAI yang akurat menggunakan metode time series, Model ini diharapkan mampu fluktuasi penumpang dari bulan ke bulan sehingga dapat digunakan sebagai dasar untuk perencanaan operasional yang lebih efisien. Dengan model prediksi yang andal, PT. KAI dapat mengoptimalkan jadwal kereta, alokasi sumber daya, serta penentuan harga tiket guna meningkatkan layanan kepada penumpang dan mengurangi biaya operasional."
   ]
  }
 ],
 "metadata": {
  "language_info": {
   "name": "python"
  }
 },
 "nbformat": 4,
 "nbformat_minor": 2
}
