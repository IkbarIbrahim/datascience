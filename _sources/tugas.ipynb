{
 "cells": [
  {
   "cell_type": "markdown",
   "metadata": {},
   "source": [
    "# **PREDIKSI KARIR MAHASISWA TEKNIK INFORMATIKA**"
   ]
  },
  {
   "cell_type": "markdown",
   "metadata": {},
   "source": [
    "## **PENDAHULUAN**"
   ]
  },
  {
   "cell_type": "markdown",
   "metadata": {},
   "source": [
    "### **LATAR BELAKANG**"
   ]
  },
  {
   "cell_type": "markdown",
   "metadata": {},
   "source": [
    "Dalam era digital saat ini yang semakin maju, dalam bidang Pendidikan khususnya perguruan tinggi di bidang Teknik informatika menghadapi tantang yang besar untuk menyiapkan lulusan yang siap untuk bersaing di pasar kerja. Oleh karena itu, sangat penting bagi perguruan tinggi untuk dapat memprediksi jalur karir yang akan ditempuh oleh mahasiswa agar proses dalam belajar atau bimbingan dapat lebih efektif dan relevan."
   ]
  },
  {
   "cell_type": "markdown",
   "metadata": {},
   "source": [
    "Melalui proyek “Prediksi Karir Mahasiswa Teknik Informatika” universitas x bertujuan untuk menyelaraskan visi dan misinya dengan tuntutan dunia kerja, Visi dari proyek ini adalah untuk menciptakan lulusan yang kompeten, inovatif, dan berdaya saing global dalam bidang teknologi infomasi, Misi yang diusung adalah menyediakan pendidikan yang berorientasi pada keterampilan praktis dan relevansi dengan dunia pekerjaan, membangun kemitraan dengan perusahaan teknologi, serta menyediakan bimbingan karir yang berbasis data untuk membantu mahasiswa dalam merencanakan jalur karir mereka."
   ]
  },
  {
   "cell_type": "markdown",
   "metadata": {},
   "source": [
    "Untuk mencapai visi dan misi tersebut, strategi bisnis yang diterapkan meliputi pendekatan pembelajaran berbasis proyek, penerapan data science dalam memantau perkembangan mahasiswa, serta peningkatan kolaborasi dengan industri melalui program magang dan pelatihan. Dengan strategi ini, universitas memiliki target untuk meningkatkan penyerapan lulusan di dunia kerja setelah kelulusan. Tujuan akhirnya adalah memastikan bahwa lulusan bekerja sesuai dengan bidang studi mereka, mengurangi tingkat pengangguran, serta memberikan bimbingan karir yang lebih terarah dan tepat sasaran."
   ]
  },
  {
   "cell_type": "markdown",
   "metadata": {},
   "source": [
    "### **PERNYATAAN MASALAH**"
   ]
  },
  {
   "cell_type": "markdown",
   "metadata": {},
   "source": [
    "Universitas X memiliki salah satu misi untuk menciptakan lulusan yang kompeten dan mampu bersaing di dunia kerja. Untuk mewujudkan misi tersebut, universitas harus menghasilkan lulusan yang sesuai dengan kebutuhan industri saat ini. Dengan demikian, lulusan tidak hanya dapat berkontribusi secara positif di tempat kerja, tetapi juga meningkatkan reputasi universitas, yang pada gilirannya dapat membuka peluang kerjasama yang lebih luas dengan berbagai perusahaan. Masalah yang mungkin ada yaitu bagaimana cara untuk membangun model prediksi yang akurat untuk menentukan jalur karir mahasiswa?"
   ]
  },
  {
   "cell_type": "markdown",
   "metadata": {},
   "source": [
    "### **TUJUAN** "
   ]
  },
  {
   "cell_type": "markdown",
   "metadata": {},
   "source": [
    "Tujuan dari proyek ini adalah agar dapat membuat model yang mampu memprediksi karir yang sesuai dengan mahasiswa, dengan menggunakan data selama mahasiswa tersebut menjalani perkuliahan di universitas x, hasil dari prediksi ini nantinya akan dapat digunakan sebagai saran kepada mahasiswa tersebut agar nantinya dapat mengambil karir yang sesuai dengan bidang minatnya. "
   ]
  },
  {
   "cell_type": "markdown",
   "metadata": {},
   "source": [
    "## **METODOLOGI PENELITIAN**"
   ]
  },
  {
   "cell_type": "markdown",
   "metadata": {},
   "source": [
    "### **DATA UNDERSTANDING**"
   ]
  },
  {
   "cell_type": "markdown",
   "metadata": {},
   "source": [
    "### **DATA PREPROCESSING**"
   ]
  },
  {
   "cell_type": "markdown",
   "metadata": {},
   "source": [
    "### **MODELLING**"
   ]
  }
 ],
 "metadata": {
  "language_info": {
   "name": "python"
  }
 },
 "nbformat": 4,
 "nbformat_minor": 2
}
