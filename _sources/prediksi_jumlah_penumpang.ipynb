{
  "cells": [
    {
      "cell_type": "markdown",
      "id": "6fd9c647-1056-47da-8721-44503988d9a6",
      "metadata": {
        "id": "6fd9c647-1056-47da-8721-44503988d9a6"
      },
      "source": [
        "# **Pemodelan Time Series untuk Prediksi Jumlah Penumpang Kereta Api PT. KAI untuk wilayah Jawa(Jabodetabek+Non Jabodetabek)**"
      ]
    },
    {
      "cell_type": "markdown",
      "source": [
        "## **Deployment**"
      ],
      "metadata": {
        "id": "uYN6sBWKN28D"
      },
      "id": "uYN6sBWKN28D"
    },
    {
      "cell_type": "markdown",
      "source": [
        "https://ikbar.pythonanywhere.com/"
      ],
      "metadata": {
        "id": "RV-b1cGFN5mv"
      },
      "id": "RV-b1cGFN5mv"
    },
    {
      "cell_type": "markdown",
      "source": [
        "## **Pendahuluan**"
      ],
      "metadata": {
        "id": "s9hjf0CqNerm"
      },
      "id": "s9hjf0CqNerm"
    },
    {
      "cell_type": "markdown",
      "source": [
        "### Latar Belakang"
      ],
      "metadata": {
        "id": "5LGvllvgNij7"
      },
      "id": "5LGvllvgNij7"
    },
    {
      "cell_type": "markdown",
      "source": [
        "PT Kereta Api Indonesia (PT. KAI) merupakan perusahaan transportasi nasional yang berperan penting dalam memobilisasi masyarakat dan barang di seluruh Indonesia. Untuk menghadapi tantangan operasional seperti fluktuasi jumlah penumpang yang dipengaruhi oleh faktor musiman, ekonomi, dan kebijakan pemerintah, PT. KAI perlu memanfaatkan teknologi prediksi guna meningkatkan efisiensi dan kualitas pelayanan. Proyek ini berfokus pada pemodelan time series untuk memprediksi jumlah penumpang di masa mendatang, sehingga membantu PT. KAI dalam pengambilan keputusan yang lebih tepat dan strategis.\n",
        "\n",
        "Visi PT. KAI adalah menjadi penyedia jasa perkeretaapian terbaik yang berfokus pada layanan pelanggan, efisiensi, dan kontribusi pada ekonomi nasional. Dengan misi untuk menyediakan layanan transportasi yang aman, nyaman, dan efisien, PT. KAI mengadopsi strategi bisnis berbasis digitalisasi dan optimasi kapasitas guna meningkatkan layanan pelanggan dan mengurangi biaya operasional. Proyek prediksi ini bertujuan untuk memberikan pemahaman lebih baik terhadap pola penumpang dan mendukung pengambilan keputusan dalam hal pengoperasian kereta api.\n",
        "\n",
        "Tujuan utama dari proyek ini adalah untuk membuat model yang memiliki akurasi tinggi dan juga dapat memprediksi jumlah penumpang yang akurat meskipun hanya memiliki beda nilai sedikit."
      ],
      "metadata": {
        "id": "XnS4cqgwNnhq"
      },
      "id": "XnS4cqgwNnhq"
    },
    {
      "cell_type": "markdown",
      "source": [
        "### Pernyataan Masalah"
      ],
      "metadata": {
        "id": "o7qhi7TCNoOo"
      },
      "id": "o7qhi7TCNoOo"
    },
    {
      "cell_type": "markdown",
      "source": [
        "1. Bagaimana cara untuk membangun model yang akurat dalam memprediksi jumlah penumpang kereta api di bulan depan?"
      ],
      "metadata": {
        "id": "e1zbLO8YNrc-"
      },
      "id": "e1zbLO8YNrc-"
    },
    {
      "cell_type": "markdown",
      "source": [
        "### Tujuan"
      ],
      "metadata": {
        "id": "Pz74w4bdNuer"
      },
      "id": "Pz74w4bdNuer"
    },
    {
      "cell_type": "markdown",
      "source": [
        "Penelitian ini bertujuan untuk\n",
        "melakukan peramalan penumpang Kereta\n",
        "api menggunakan metode time series sehingga\n",
        "dapat dilakukan penyesuaian kapasitas\n",
        "layanan sesuai kebutuhan dengan harapan\n",
        "dapat meningkatkan kepuasan pengguna\n",
        "layanan sekaligus tingkat keuntungan dari\n",
        "penyelenggara jasa layanan Kereta api."
      ],
      "metadata": {
        "id": "pDsquOJjNxE6"
      },
      "id": "pDsquOJjNxE6"
    },
    {
      "cell_type": "markdown",
      "source": [
        "## Pengumpulan Data"
      ],
      "metadata": {
        "id": "ATznIbuZL5td"
      },
      "id": "ATznIbuZL5td"
    },
    {
      "cell_type": "code",
      "execution_count": null,
      "id": "7fd61158-bbfe-470d-b81c-507b3d297106",
      "metadata": {
        "colab": {
          "base_uri": "https://localhost:8080/",
          "height": 423
        },
        "id": "7fd61158-bbfe-470d-b81c-507b3d297106",
        "outputId": "85ee10f6-c5ed-496a-a0de-50c6e709b318"
      },
      "outputs": [
        {
          "output_type": "execute_result",
          "data": {
            "text/plain": [
              "       Month  PassengerCount\n",
              "0    2024-08           34666\n",
              "1    2024-07           36640\n",
              "2    2024-06           33832\n",
              "3    2024-05           33964\n",
              "4    2024-04           33554\n",
              "..       ...             ...\n",
              "219  2006-05           13312\n",
              "220  2006-04           12657\n",
              "221  2006-03           13066\n",
              "222  2006-02           11705\n",
              "223  2006-01           11504\n",
              "\n",
              "[224 rows x 2 columns]"
            ],
            "text/html": [
              "\n",
              "  <div id=\"df-98bda7f3-885f-4011-ab8d-6a456830df3a\" class=\"colab-df-container\">\n",
              "    <div>\n",
              "<style scoped>\n",
              "    .dataframe tbody tr th:only-of-type {\n",
              "        vertical-align: middle;\n",
              "    }\n",
              "\n",
              "    .dataframe tbody tr th {\n",
              "        vertical-align: top;\n",
              "    }\n",
              "\n",
              "    .dataframe thead th {\n",
              "        text-align: right;\n",
              "    }\n",
              "</style>\n",
              "<table border=\"1\" class=\"dataframe\">\n",
              "  <thead>\n",
              "    <tr style=\"text-align: right;\">\n",
              "      <th></th>\n",
              "      <th>Month</th>\n",
              "      <th>PassengerCount</th>\n",
              "    </tr>\n",
              "  </thead>\n",
              "  <tbody>\n",
              "    <tr>\n",
              "      <th>0</th>\n",
              "      <td>2024-08</td>\n",
              "      <td>34666</td>\n",
              "    </tr>\n",
              "    <tr>\n",
              "      <th>1</th>\n",
              "      <td>2024-07</td>\n",
              "      <td>36640</td>\n",
              "    </tr>\n",
              "    <tr>\n",
              "      <th>2</th>\n",
              "      <td>2024-06</td>\n",
              "      <td>33832</td>\n",
              "    </tr>\n",
              "    <tr>\n",
              "      <th>3</th>\n",
              "      <td>2024-05</td>\n",
              "      <td>33964</td>\n",
              "    </tr>\n",
              "    <tr>\n",
              "      <th>4</th>\n",
              "      <td>2024-04</td>\n",
              "      <td>33554</td>\n",
              "    </tr>\n",
              "    <tr>\n",
              "      <th>...</th>\n",
              "      <td>...</td>\n",
              "      <td>...</td>\n",
              "    </tr>\n",
              "    <tr>\n",
              "      <th>219</th>\n",
              "      <td>2006-05</td>\n",
              "      <td>13312</td>\n",
              "    </tr>\n",
              "    <tr>\n",
              "      <th>220</th>\n",
              "      <td>2006-04</td>\n",
              "      <td>12657</td>\n",
              "    </tr>\n",
              "    <tr>\n",
              "      <th>221</th>\n",
              "      <td>2006-03</td>\n",
              "      <td>13066</td>\n",
              "    </tr>\n",
              "    <tr>\n",
              "      <th>222</th>\n",
              "      <td>2006-02</td>\n",
              "      <td>11705</td>\n",
              "    </tr>\n",
              "    <tr>\n",
              "      <th>223</th>\n",
              "      <td>2006-01</td>\n",
              "      <td>11504</td>\n",
              "    </tr>\n",
              "  </tbody>\n",
              "</table>\n",
              "<p>224 rows × 2 columns</p>\n",
              "</div>\n",
              "    <div class=\"colab-df-buttons\">\n",
              "\n",
              "  <div class=\"colab-df-container\">\n",
              "    <button class=\"colab-df-convert\" onclick=\"convertToInteractive('df-98bda7f3-885f-4011-ab8d-6a456830df3a')\"\n",
              "            title=\"Convert this dataframe to an interactive table.\"\n",
              "            style=\"display:none;\">\n",
              "\n",
              "  <svg xmlns=\"http://www.w3.org/2000/svg\" height=\"24px\" viewBox=\"0 -960 960 960\">\n",
              "    <path d=\"M120-120v-720h720v720H120Zm60-500h600v-160H180v160Zm220 220h160v-160H400v160Zm0 220h160v-160H400v160ZM180-400h160v-160H180v160Zm440 0h160v-160H620v160ZM180-180h160v-160H180v160Zm440 0h160v-160H620v160Z\"/>\n",
              "  </svg>\n",
              "    </button>\n",
              "\n",
              "  <style>\n",
              "    .colab-df-container {\n",
              "      display:flex;\n",
              "      gap: 12px;\n",
              "    }\n",
              "\n",
              "    .colab-df-convert {\n",
              "      background-color: #E8F0FE;\n",
              "      border: none;\n",
              "      border-radius: 50%;\n",
              "      cursor: pointer;\n",
              "      display: none;\n",
              "      fill: #1967D2;\n",
              "      height: 32px;\n",
              "      padding: 0 0 0 0;\n",
              "      width: 32px;\n",
              "    }\n",
              "\n",
              "    .colab-df-convert:hover {\n",
              "      background-color: #E2EBFA;\n",
              "      box-shadow: 0px 1px 2px rgba(60, 64, 67, 0.3), 0px 1px 3px 1px rgba(60, 64, 67, 0.15);\n",
              "      fill: #174EA6;\n",
              "    }\n",
              "\n",
              "    .colab-df-buttons div {\n",
              "      margin-bottom: 4px;\n",
              "    }\n",
              "\n",
              "    [theme=dark] .colab-df-convert {\n",
              "      background-color: #3B4455;\n",
              "      fill: #D2E3FC;\n",
              "    }\n",
              "\n",
              "    [theme=dark] .colab-df-convert:hover {\n",
              "      background-color: #434B5C;\n",
              "      box-shadow: 0px 1px 3px 1px rgba(0, 0, 0, 0.15);\n",
              "      filter: drop-shadow(0px 1px 2px rgba(0, 0, 0, 0.3));\n",
              "      fill: #FFFFFF;\n",
              "    }\n",
              "  </style>\n",
              "\n",
              "    <script>\n",
              "      const buttonEl =\n",
              "        document.querySelector('#df-98bda7f3-885f-4011-ab8d-6a456830df3a button.colab-df-convert');\n",
              "      buttonEl.style.display =\n",
              "        google.colab.kernel.accessAllowed ? 'block' : 'none';\n",
              "\n",
              "      async function convertToInteractive(key) {\n",
              "        const element = document.querySelector('#df-98bda7f3-885f-4011-ab8d-6a456830df3a');\n",
              "        const dataTable =\n",
              "          await google.colab.kernel.invokeFunction('convertToInteractive',\n",
              "                                                    [key], {});\n",
              "        if (!dataTable) return;\n",
              "\n",
              "        const docLinkHtml = 'Like what you see? Visit the ' +\n",
              "          '<a target=\"_blank\" href=https://colab.research.google.com/notebooks/data_table.ipynb>data table notebook</a>'\n",
              "          + ' to learn more about interactive tables.';\n",
              "        element.innerHTML = '';\n",
              "        dataTable['output_type'] = 'display_data';\n",
              "        await google.colab.output.renderOutput(dataTable, element);\n",
              "        const docLink = document.createElement('div');\n",
              "        docLink.innerHTML = docLinkHtml;\n",
              "        element.appendChild(docLink);\n",
              "      }\n",
              "    </script>\n",
              "  </div>\n",
              "\n",
              "\n",
              "<div id=\"df-e2770997-d40f-4261-a346-39322e59f469\">\n",
              "  <button class=\"colab-df-quickchart\" onclick=\"quickchart('df-e2770997-d40f-4261-a346-39322e59f469')\"\n",
              "            title=\"Suggest charts\"\n",
              "            style=\"display:none;\">\n",
              "\n",
              "<svg xmlns=\"http://www.w3.org/2000/svg\" height=\"24px\"viewBox=\"0 0 24 24\"\n",
              "     width=\"24px\">\n",
              "    <g>\n",
              "        <path d=\"M19 3H5c-1.1 0-2 .9-2 2v14c0 1.1.9 2 2 2h14c1.1 0 2-.9 2-2V5c0-1.1-.9-2-2-2zM9 17H7v-7h2v7zm4 0h-2V7h2v10zm4 0h-2v-4h2v4z\"/>\n",
              "    </g>\n",
              "</svg>\n",
              "  </button>\n",
              "\n",
              "<style>\n",
              "  .colab-df-quickchart {\n",
              "      --bg-color: #E8F0FE;\n",
              "      --fill-color: #1967D2;\n",
              "      --hover-bg-color: #E2EBFA;\n",
              "      --hover-fill-color: #174EA6;\n",
              "      --disabled-fill-color: #AAA;\n",
              "      --disabled-bg-color: #DDD;\n",
              "  }\n",
              "\n",
              "  [theme=dark] .colab-df-quickchart {\n",
              "      --bg-color: #3B4455;\n",
              "      --fill-color: #D2E3FC;\n",
              "      --hover-bg-color: #434B5C;\n",
              "      --hover-fill-color: #FFFFFF;\n",
              "      --disabled-bg-color: #3B4455;\n",
              "      --disabled-fill-color: #666;\n",
              "  }\n",
              "\n",
              "  .colab-df-quickchart {\n",
              "    background-color: var(--bg-color);\n",
              "    border: none;\n",
              "    border-radius: 50%;\n",
              "    cursor: pointer;\n",
              "    display: none;\n",
              "    fill: var(--fill-color);\n",
              "    height: 32px;\n",
              "    padding: 0;\n",
              "    width: 32px;\n",
              "  }\n",
              "\n",
              "  .colab-df-quickchart:hover {\n",
              "    background-color: var(--hover-bg-color);\n",
              "    box-shadow: 0 1px 2px rgba(60, 64, 67, 0.3), 0 1px 3px 1px rgba(60, 64, 67, 0.15);\n",
              "    fill: var(--button-hover-fill-color);\n",
              "  }\n",
              "\n",
              "  .colab-df-quickchart-complete:disabled,\n",
              "  .colab-df-quickchart-complete:disabled:hover {\n",
              "    background-color: var(--disabled-bg-color);\n",
              "    fill: var(--disabled-fill-color);\n",
              "    box-shadow: none;\n",
              "  }\n",
              "\n",
              "  .colab-df-spinner {\n",
              "    border: 2px solid var(--fill-color);\n",
              "    border-color: transparent;\n",
              "    border-bottom-color: var(--fill-color);\n",
              "    animation:\n",
              "      spin 1s steps(1) infinite;\n",
              "  }\n",
              "\n",
              "  @keyframes spin {\n",
              "    0% {\n",
              "      border-color: transparent;\n",
              "      border-bottom-color: var(--fill-color);\n",
              "      border-left-color: var(--fill-color);\n",
              "    }\n",
              "    20% {\n",
              "      border-color: transparent;\n",
              "      border-left-color: var(--fill-color);\n",
              "      border-top-color: var(--fill-color);\n",
              "    }\n",
              "    30% {\n",
              "      border-color: transparent;\n",
              "      border-left-color: var(--fill-color);\n",
              "      border-top-color: var(--fill-color);\n",
              "      border-right-color: var(--fill-color);\n",
              "    }\n",
              "    40% {\n",
              "      border-color: transparent;\n",
              "      border-right-color: var(--fill-color);\n",
              "      border-top-color: var(--fill-color);\n",
              "    }\n",
              "    60% {\n",
              "      border-color: transparent;\n",
              "      border-right-color: var(--fill-color);\n",
              "    }\n",
              "    80% {\n",
              "      border-color: transparent;\n",
              "      border-right-color: var(--fill-color);\n",
              "      border-bottom-color: var(--fill-color);\n",
              "    }\n",
              "    90% {\n",
              "      border-color: transparent;\n",
              "      border-bottom-color: var(--fill-color);\n",
              "    }\n",
              "  }\n",
              "</style>\n",
              "\n",
              "  <script>\n",
              "    async function quickchart(key) {\n",
              "      const quickchartButtonEl =\n",
              "        document.querySelector('#' + key + ' button');\n",
              "      quickchartButtonEl.disabled = true;  // To prevent multiple clicks.\n",
              "      quickchartButtonEl.classList.add('colab-df-spinner');\n",
              "      try {\n",
              "        const charts = await google.colab.kernel.invokeFunction(\n",
              "            'suggestCharts', [key], {});\n",
              "      } catch (error) {\n",
              "        console.error('Error during call to suggestCharts:', error);\n",
              "      }\n",
              "      quickchartButtonEl.classList.remove('colab-df-spinner');\n",
              "      quickchartButtonEl.classList.add('colab-df-quickchart-complete');\n",
              "    }\n",
              "    (() => {\n",
              "      let quickchartButtonEl =\n",
              "        document.querySelector('#df-e2770997-d40f-4261-a346-39322e59f469 button');\n",
              "      quickchartButtonEl.style.display =\n",
              "        google.colab.kernel.accessAllowed ? 'block' : 'none';\n",
              "    })();\n",
              "  </script>\n",
              "</div>\n",
              "\n",
              "  <div id=\"id_dc74836d-5c84-41b9-92a4-a0509aad395e\">\n",
              "    <style>\n",
              "      .colab-df-generate {\n",
              "        background-color: #E8F0FE;\n",
              "        border: none;\n",
              "        border-radius: 50%;\n",
              "        cursor: pointer;\n",
              "        display: none;\n",
              "        fill: #1967D2;\n",
              "        height: 32px;\n",
              "        padding: 0 0 0 0;\n",
              "        width: 32px;\n",
              "      }\n",
              "\n",
              "      .colab-df-generate:hover {\n",
              "        background-color: #E2EBFA;\n",
              "        box-shadow: 0px 1px 2px rgba(60, 64, 67, 0.3), 0px 1px 3px 1px rgba(60, 64, 67, 0.15);\n",
              "        fill: #174EA6;\n",
              "      }\n",
              "\n",
              "      [theme=dark] .colab-df-generate {\n",
              "        background-color: #3B4455;\n",
              "        fill: #D2E3FC;\n",
              "      }\n",
              "\n",
              "      [theme=dark] .colab-df-generate:hover {\n",
              "        background-color: #434B5C;\n",
              "        box-shadow: 0px 1px 3px 1px rgba(0, 0, 0, 0.15);\n",
              "        filter: drop-shadow(0px 1px 2px rgba(0, 0, 0, 0.3));\n",
              "        fill: #FFFFFF;\n",
              "      }\n",
              "    </style>\n",
              "    <button class=\"colab-df-generate\" onclick=\"generateWithVariable('raw_df')\"\n",
              "            title=\"Generate code using this dataframe.\"\n",
              "            style=\"display:none;\">\n",
              "\n",
              "  <svg xmlns=\"http://www.w3.org/2000/svg\" height=\"24px\"viewBox=\"0 0 24 24\"\n",
              "       width=\"24px\">\n",
              "    <path d=\"M7,19H8.4L18.45,9,17,7.55,7,17.6ZM5,21V16.75L18.45,3.32a2,2,0,0,1,2.83,0l1.4,1.43a1.91,1.91,0,0,1,.58,1.4,1.91,1.91,0,0,1-.58,1.4L9.25,21ZM18.45,9,17,7.55Zm-12,3A5.31,5.31,0,0,0,4.9,8.1,5.31,5.31,0,0,0,1,6.5,5.31,5.31,0,0,0,4.9,4.9,5.31,5.31,0,0,0,6.5,1,5.31,5.31,0,0,0,8.1,4.9,5.31,5.31,0,0,0,12,6.5,5.46,5.46,0,0,0,6.5,12Z\"/>\n",
              "  </svg>\n",
              "    </button>\n",
              "    <script>\n",
              "      (() => {\n",
              "      const buttonEl =\n",
              "        document.querySelector('#id_dc74836d-5c84-41b9-92a4-a0509aad395e button.colab-df-generate');\n",
              "      buttonEl.style.display =\n",
              "        google.colab.kernel.accessAllowed ? 'block' : 'none';\n",
              "\n",
              "      buttonEl.onclick = () => {\n",
              "        google.colab.notebook.generateWithVariable('raw_df');\n",
              "      }\n",
              "      })();\n",
              "    </script>\n",
              "  </div>\n",
              "\n",
              "    </div>\n",
              "  </div>\n"
            ],
            "application/vnd.google.colaboratory.intrinsic+json": {
              "type": "dataframe",
              "variable_name": "raw_df",
              "summary": "{\n  \"name\": \"raw_df\",\n  \"rows\": 224,\n  \"fields\": [\n    {\n      \"column\": \"Month\",\n      \"properties\": {\n        \"dtype\": \"object\",\n        \"num_unique_values\": 224,\n        \"samples\": [\n          \"2023-11\",\n          \"2017-08\",\n          \"2014-11\"\n        ],\n        \"semantic_type\": \"\",\n        \"description\": \"\"\n      }\n    },\n    {\n      \"column\": \"PassengerCount\",\n      \"properties\": {\n        \"dtype\": \"number\",\n        \"std\": 8248,\n        \"min\": 5476,\n        \"max\": 38303,\n        \"num_unique_values\": 224,\n        \"samples\": [\n          32424,\n          33255,\n          23986\n        ],\n        \"semantic_type\": \"\",\n        \"description\": \"\"\n      }\n    }\n  ]\n}"
            }
          },
          "metadata": {},
          "execution_count": 20
        }
      ],
      "source": [
        "#import library\n",
        "import pandas as pd\n",
        "\n",
        "# Load data\n",
        "raw_df = pd.read_csv('https://raw.githubusercontent.com/IkbarIbrahim/datascience/refs/heads/main/dataKeretaApi(2006-2024).csv')\n",
        "pd.options.display.float_format = '{:.0f}'.format\n",
        "raw_df"
      ]
    },
    {
      "cell_type": "markdown",
      "id": "2ecf6974-4967-407e-817d-74c8c99ad70a",
      "metadata": {
        "id": "2ecf6974-4967-407e-817d-74c8c99ad70a"
      },
      "source": [
        "## Plotting Data"
      ]
    },
    {
      "cell_type": "code",
      "execution_count": null,
      "id": "e36fd8a3-fdfb-47d8-83c4-50c5eb079e89",
      "metadata": {
        "colab": {
          "base_uri": "https://localhost:8080/"
        },
        "id": "e36fd8a3-fdfb-47d8-83c4-50c5eb079e89",
        "outputId": "a5a346f2-032c-4ae7-f791-536b6f837e53"
      },
      "outputs": [
        {
          "output_type": "stream",
          "name": "stdout",
          "text": [
            "<class 'pandas.core.frame.DataFrame'>\n",
            "DatetimeIndex: 224 entries, 2006-01-01 to 2024-08-01\n",
            "Data columns (total 1 columns):\n",
            " #   Column          Non-Null Count  Dtype\n",
            "---  ------          --------------  -----\n",
            " 0   PassengerCount  224 non-null    int64\n",
            "dtypes: int64(1)\n",
            "memory usage: 3.5 KB\n"
          ]
        }
      ],
      "source": [
        "df = raw_df[['Month', 'PassengerCount']]\n",
        "df['Month'] = pd.to_datetime(df['Month'], dayfirst=True, format='%Y-%m').dt.date\n",
        "df.set_index('Month', inplace=True)\n",
        "df.index = pd.to_datetime(df.index)\n",
        "df = df.sort_index()\n",
        "df\n",
        "df.info()"
      ]
    },
    {
      "cell_type": "code",
      "execution_count": null,
      "id": "4c1f0e76-ffdc-4514-8a2e-f04de9996092",
      "metadata": {
        "colab": {
          "base_uri": "https://localhost:8080/",
          "height": 377
        },
        "id": "4c1f0e76-ffdc-4514-8a2e-f04de9996092",
        "outputId": "41aea8ce-f6ec-4c13-c441-6d034d7d73dc"
      },
      "outputs": [
        {
          "output_type": "display_data",
          "data": {
            "text/plain": [
              "<Figure size 1600x800 with 1 Axes>"
            ],
            "image/png": "[encoded data removed]"
          },
          "metadata": {}
        }
      ],
      "source": [
        "import matplotlib.pyplot as plt\n",
        "import seaborn as sns\n",
        "\n",
        "fig, ax1 = plt.subplots(figsize=(16, 8))\n",
        "plt.title(\"Jumlah Penumpang Kereta Api\", fontsize=24)\n",
        "plt.ylabel('Jumlah Penumpang', fontsize=18)\n",
        "plt.xlabel('Tahun', fontsize=18)\n",
        "sns.set_palette([\"#090364\", \"#1960EF\", \"#EF5919\"])\n",
        "sns.lineplot(data=df['PassengerCount'], linewidth=1.0, dashes=False, ax=ax1)\n",
        "plt.show()"
      ]
    },
    {
      "cell_type": "markdown",
      "id": "1975518c-edba-445e-ab26-fbf8cf5bf279",
      "metadata": {
        "id": "1975518c-edba-445e-ab26-fbf8cf5bf279"
      },
      "source": [
        "## Preprocessing Data\n",
        "\n",
        "### Normalisasi Data"
      ]
    },
    {
      "cell_type": "code",
      "execution_count": null,
      "id": "5741adea-81ed-47d0-8830-4263fcbfdbfc",
      "metadata": {
        "id": "5741adea-81ed-47d0-8830-4263fcbfdbfc"
      },
      "outputs": [],
      "source": [
        "import numpy as np\n",
        "\n",
        "def normalize(df):\n",
        "    from sklearn.preprocessing import RobustScaler, MinMaxScaler\n",
        "\n",
        "    np_data_unscaled = np.array(df)\n",
        "    scaler = MinMaxScaler()\n",
        "    np_data_scaled = scaler.fit_transform(np_data_unscaled)\n",
        "    print(np_data_unscaled)\n",
        "    normalized_df = pd.DataFrame(np_data_scaled, columns=df.columns, index=df.index)\n",
        "    pd.set_option('display.float_format', '{:.4f}'.format)  # Menampilkan 4 desimal\n",
        "    return normalized_df, scaler\n",
        "\n",
        "# normalized_df, scaler = normalize(df)\n",
        "# normalized_df"
      ]
    },
    {
      "cell_type": "markdown",
      "id": "162974fd-7b56-43f1-9b02-0e50ebd35ac9",
      "metadata": {
        "id": "162974fd-7b56-43f1-9b02-0e50ebd35ac9"
      },
      "source": [
        "### Sliding Window"
      ]
    },
    {
      "cell_type": "code",
      "execution_count": null,
      "id": "591cb47c-a7ea-4879-88f9-0b0aaf5795db",
      "metadata": {
        "colab": {
          "base_uri": "https://localhost:8080/"
        },
        "id": "591cb47c-a7ea-4879-88f9-0b0aaf5795db",
        "outputId": "f68c51da-425f-43a0-8c6a-16f583f5959d"
      },
      "outputs": [
        {
          "output_type": "stream",
          "name": "stdout",
          "text": [
            "              xt  xt-1  xt-2  xt-3\n",
            "Month                             \n",
            "2006-04-01 12657 13066 11705 11504\n",
            "2006-05-01 13312 12657 13066 11705\n",
            "2006-06-01 12929 13312 12657 13066\n",
            "2006-07-01 14087 12929 13312 12657\n",
            "2006-08-01 12991 14087 12929 13312\n",
            "...          ...   ...   ...   ...\n",
            "2024-04-01 33554 31742 30810 32995\n",
            "2024-05-01 33964 33554 31742 30810\n",
            "2024-06-01 33832 33964 33554 31742\n",
            "2024-07-01 36640 33832 33964 33554\n",
            "2024-08-01 34666 36640 33832 33964\n",
            "\n",
            "[221 rows x 4 columns]\n"
          ]
        }
      ],
      "source": [
        "def sliding_window(data, lag):\n",
        "    series = data['PassengerCount']\n",
        "    result = pd.DataFrame()\n",
        "    for l in lag:\n",
        "        result[f'xt-{l}'] = series.shift(l)\n",
        "\n",
        "    result['xt'] = series[l:]\n",
        "    result = result.dropna()\n",
        "    result.index = series.index[l:]  # Mengatur index sesuai dengan nilai lag\n",
        "    return result\n",
        "\n",
        "windowed_data = sliding_window(df, [1, 2, 3])\n",
        "windowed_data = windowed_data[['xt', 'xt-1', 'xt-2', 'xt-3']]\n",
        "windowed_data"
      ]
    },
    {
      "cell_type": "code",
      "source": [
        "windowed_data.to_csv(\"windowed_data.csv\", index=False)\n"
      ],
      "metadata": {
        "id": "td8DwxEljZQi"
      },
      "id": "td8DwxEljZQi",
      "execution_count": null,
      "outputs": []
    },
    {
      "cell_type": "markdown",
      "id": "4c38c73c-ed17-4b5f-829e-71b4242f9470",
      "metadata": {
        "id": "4c38c73c-ed17-4b5f-829e-71b4242f9470"
      },
      "source": [
        "### Splitting Data"
      ]
    },
    {
      "cell_type": "code",
      "execution_count": null,
      "id": "3344dfec-0f45-4f4a-9839-3ce26e82e642",
      "metadata": {
        "colab": {
          "base_uri": "https://localhost:8080/"
        },
        "id": "3344dfec-0f45-4f4a-9839-3ce26e82e642",
        "outputId": "0cb1e647-e905-4445-b7db-2611ea1ee422"
      },
      "outputs": [
        {
          "output_type": "stream",
          "name": "stdout",
          "text": [
            "X_train shape: (176, 3)\n",
            "y_train shape: (176, 1)\n",
            "X_test shape: (45, 3)\n",
            "y_test shape: (45, 1)\n"
          ]
        }
      ],
      "source": [
        "def split_data(data, target, train_size):\n",
        "    split_index = int(len(data) * train_size)\n",
        "\n",
        "    x_train = data[:split_index]\n",
        "    y_train = target[:split_index]\n",
        "    x_test = data[split_index:]\n",
        "    y_test = target[split_index:]\n",
        "\n",
        "    return x_train, y_train, x_test, y_test\n",
        "\n",
        "input_df = windowed_data[['xt-1', 'xt-2', 'xt-3']]\n",
        "target_df = windowed_data[['xt']]\n",
        "\n",
        "x_train, y_train, x_test, y_test = split_data(input_df, target_df, 0.8)\n",
        "\n",
        "print(\"X_train shape:\", x_train.shape)\n",
        "print(\"y_train shape:\", y_train.shape)\n",
        "print(\"X_test shape:\", x_test.shape)\n",
        "print(\"y_test shape:\", y_test.shape)"
      ]
    },
    {
      "cell_type": "markdown",
      "id": "51c3e678-2daa-4ea9-a2cd-bfa47c411bfd",
      "metadata": {
        "id": "51c3e678-2daa-4ea9-a2cd-bfa47c411bfd"
      },
      "source": [
        "## Modelling\n",
        "\n",
        "### Regresi Linear tanpa Ensemble Bagging"
      ]
    },
    {
      "cell_type": "markdown",
      "source": [
        "#### Rumus Regresi Linear\n",
        "\n",
        "Regresi linear dapat dinyatakan dengan rumus:\n",
        "\n",
        "$$\n",
        "y = \\beta_0 + \\beta_1 x_1 + \\beta_2 x_2 + ... + \\beta_n x_n + \\epsilon\n",
        "$$\n",
        "\n",
        "di mana:\n",
        "- $y$ adalah variabel dependen (target).\n",
        "- $\\beta_0$ adalah intercept (konstanta).\n",
        "- $\\beta_1, \\beta_2, \\ldots, \\beta_n$ adalah koefisien regresi untuk masing-masing variabel independen $x_1, x_2, \\ldots, x_n$.\n",
        "- $\\epsilon$ adalah error atau residual."
      ],
      "metadata": {
        "id": "ZCH_-BqFnPwa"
      },
      "id": "ZCH_-BqFnPwa"
    },
    {
      "cell_type": "code",
      "execution_count": null,
      "id": "d2db3166-0ae7-49f7-9f7f-41be592d73cc",
      "metadata": {
        "colab": {
          "base_uri": "https://localhost:8080/",
          "height": 80
        },
        "id": "d2db3166-0ae7-49f7-9f7f-41be592d73cc",
        "outputId": "20d475da-cb13-4f65-f229-438e0bf3310b"
      },
      "outputs": [
        {
          "output_type": "execute_result",
          "data": {
            "text/plain": [
              "LinearRegression()"
            ],
            "text/html": [
              "<style>#sk-container-id-2 {\n",
              "  /* Definition of color scheme common for light and dark mode */\n",
              "  --sklearn-color-text: black;\n",
              "  --sklearn-color-line: gray;\n",
              "  /* Definition of color scheme for unfitted estimators */\n",
              "  --sklearn-color-unfitted-level-0: #fff5e6;\n",
              "  --sklearn-color-unfitted-level-1: #f6e4d2;\n",
              "  --sklearn-color-unfitted-level-2: #ffe0b3;\n",
              "  --sklearn-color-unfitted-level-3: chocolate;\n",
              "  /* Definition of color scheme for fitted estimators */\n",
              "  --sklearn-color-fitted-level-0: #f0f8ff;\n",
              "  --sklearn-color-fitted-level-1: #d4ebff;\n",
              "  --sklearn-color-fitted-level-2: #b3dbfd;\n",
              "  --sklearn-color-fitted-level-3: cornflowerblue;\n",
              "\n",
              "  /* Specific color for light theme */\n",
              "  --sklearn-color-text-on-default-background: var(--sg-text-color, var(--theme-code-foreground, var(--jp-content-font-color1, black)));\n",
              "  --sklearn-color-background: var(--sg-background-color, var(--theme-background, var(--jp-layout-color0, white)));\n",
              "  --sklearn-color-border-box: var(--sg-text-color, var(--theme-code-foreground, var(--jp-content-font-color1, black)));\n",
              "  --sklearn-color-icon: #696969;\n",
              "\n",
              "  @media (prefers-color-scheme: dark) {\n",
              "    /* Redefinition of color scheme for dark theme */\n",
              "    --sklearn-color-text-on-default-background: var(--sg-text-color, var(--theme-code-foreground, var(--jp-content-font-color1, white)));\n",
              "    --sklearn-color-background: var(--sg-background-color, var(--theme-background, var(--jp-layout-color0, #111)));\n",
              "    --sklearn-color-border-box: var(--sg-text-color, var(--theme-code-foreground, var(--jp-content-font-color1, white)));\n",
              "    --sklearn-color-icon: #878787;\n",
              "  }\n",
              "}\n",
              "\n",
              "#sk-container-id-2 {\n",
              "  color: var(--sklearn-color-text);\n",
              "}\n",
              "\n",
              "#sk-container-id-2 pre {\n",
              "  padding: 0;\n",
              "}\n",
              "\n",
              "#sk-container-id-2 input.sk-hidden--visually {\n",
              "  border: 0;\n",
              "  clip: rect(1px 1px 1px 1px);\n",
              "  clip: rect(1px, 1px, 1px, 1px);\n",
              "  height: 1px;\n",
              "  margin: -1px;\n",
              "  overflow: hidden;\n",
              "  padding: 0;\n",
              "  position: absolute;\n",
              "  width: 1px;\n",
              "}\n",
              "\n",
              "#sk-container-id-2 div.sk-dashed-wrapped {\n",
              "  border: 1px dashed var(--sklearn-color-line);\n",
              "  margin: 0 0.4em 0.5em 0.4em;\n",
              "  box-sizing: border-box;\n",
              "  padding-bottom: 0.4em;\n",
              "  background-color: var(--sklearn-color-background);\n",
              "}\n",
              "\n",
              "#sk-container-id-2 div.sk-container {\n",
              "  /* jupyter's `normalize.less` sets `[hidden] { display: none; }`\n",
              "     but bootstrap.min.css set `[hidden] { display: none !important; }`\n",
              "     so we also need the `!important` here to be able to override the\n",
              "     default hidden behavior on the sphinx rendered scikit-learn.org.\n",
              "     See: https://github.com/scikit-learn/scikit-learn/issues/21755 */\n",
              "  display: inline-block !important;\n",
              "  position: relative;\n",
              "}\n",
              "\n",
              "#sk-container-id-2 div.sk-text-repr-fallback {\n",
              "  display: none;\n",
              "}\n",
              "\n",
              "div.sk-parallel-item,\n",
              "div.sk-serial,\n",
              "div.sk-item {\n",
              "  /* draw centered vertical line to link estimators */\n",
              "  background-image: linear-gradient(var(--sklearn-color-text-on-default-background), var(--sklearn-color-text-on-default-background));\n",
              "  background-size: 2px 100%;\n",
              "  background-repeat: no-repeat;\n",
              "  background-position: center center;\n",
              "}\n",
              "\n",
              "/* Parallel-specific style estimator block */\n",
              "\n",
              "#sk-container-id-2 div.sk-parallel-item::after {\n",
              "  content: \"\";\n",
              "  width: 100%;\n",
              "  border-bottom: 2px solid var(--sklearn-color-text-on-default-background);\n",
              "  flex-grow: 1;\n",
              "}\n",
              "\n",
              "#sk-container-id-2 div.sk-parallel {\n",
              "  display: flex;\n",
              "  align-items: stretch;\n",
              "  justify-content: center;\n",
              "  background-color: var(--sklearn-color-background);\n",
              "  position: relative;\n",
              "}\n",
              "\n",
              "#sk-container-id-2 div.sk-parallel-item {\n",
              "  display: flex;\n",
              "  flex-direction: column;\n",
              "}\n",
              "\n",
              "#sk-container-id-2 div.sk-parallel-item:first-child::after {\n",
              "  align-self: flex-end;\n",
              "  width: 50%;\n",
              "}\n",
              "\n",
              "#sk-container-id-2 div.sk-parallel-item:last-child::after {\n",
              "  align-self: flex-start;\n",
              "  width: 50%;\n",
              "}\n",
              "\n",
              "#sk-container-id-2 div.sk-parallel-item:only-child::after {\n",
              "  width: 0;\n",
              "}\n",
              "\n",
              "/* Serial-specific style estimator block */\n",
              "\n",
              "#sk-container-id-2 div.sk-serial {\n",
              "  display: flex;\n",
              "  flex-direction: column;\n",
              "  align-items: center;\n",
              "  background-color: var(--sklearn-color-background);\n",
              "  padding-right: 1em;\n",
              "  padding-left: 1em;\n",
              "}\n",
              "\n",
              "\n",
              "/* Toggleable style: style used for estimator/Pipeline/ColumnTransformer box that is\n",
              "clickable and can be expanded/collapsed.\n",
              "- Pipeline and ColumnTransformer use this feature and define the default style\n",
              "- Estimators will overwrite some part of the style using the `sk-estimator` class\n",
              "*/\n",
              "\n",
              "/* Pipeline and ColumnTransformer style (default) */\n",
              "\n",
              "#sk-container-id-2 div.sk-toggleable {\n",
              "  /* Default theme specific background. It is overwritten whether we have a\n",
              "  specific estimator or a Pipeline/ColumnTransformer */\n",
              "  background-color: var(--sklearn-color-background);\n",
              "}\n",
              "\n",
              "/* Toggleable label */\n",
              "#sk-container-id-2 label.sk-toggleable__label {\n",
              "  cursor: pointer;\n",
              "  display: block;\n",
              "  width: 100%;\n",
              "  margin-bottom: 0;\n",
              "  padding: 0.5em;\n",
              "  box-sizing: border-box;\n",
              "  text-align: center;\n",
              "}\n",
              "\n",
              "#sk-container-id-2 label.sk-toggleable__label-arrow:before {\n",
              "  /* Arrow on the left of the label */\n",
              "  content: \"▸\";\n",
              "  float: left;\n",
              "  margin-right: 0.25em;\n",
              "  color: var(--sklearn-color-icon);\n",
              "}\n",
              "\n",
              "#sk-container-id-2 label.sk-toggleable__label-arrow:hover:before {\n",
              "  color: var(--sklearn-color-text);\n",
              "}\n",
              "\n",
              "/* Toggleable content - dropdown */\n",
              "\n",
              "#sk-container-id-2 div.sk-toggleable__content {\n",
              "  max-height: 0;\n",
              "  max-width: 0;\n",
              "  overflow: hidden;\n",
              "  text-align: left;\n",
              "  /* unfitted */\n",
              "  background-color: var(--sklearn-color-unfitted-level-0);\n",
              "}\n",
              "\n",
              "#sk-container-id-2 div.sk-toggleable__content.fitted {\n",
              "  /* fitted */\n",
              "  background-color: var(--sklearn-color-fitted-level-0);\n",
              "}\n",
              "\n",
              "#sk-container-id-2 div.sk-toggleable__content pre {\n",
              "  margin: 0.2em;\n",
              "  border-radius: 0.25em;\n",
              "  color: var(--sklearn-color-text);\n",
              "  /* unfitted */\n",
              "  background-color: var(--sklearn-color-unfitted-level-0);\n",
              "}\n",
              "\n",
              "#sk-container-id-2 div.sk-toggleable__content.fitted pre {\n",
              "  /* unfitted */\n",
              "  background-color: var(--sklearn-color-fitted-level-0);\n",
              "}\n",
              "\n",
              "#sk-container-id-2 input.sk-toggleable__control:checked~div.sk-toggleable__content {\n",
              "  /* Expand drop-down */\n",
              "  max-height: 200px;\n",
              "  max-width: 100%;\n",
              "  overflow: auto;\n",
              "}\n",
              "\n",
              "#sk-container-id-2 input.sk-toggleable__control:checked~label.sk-toggleable__label-arrow:before {\n",
              "  content: \"▾\";\n",
              "}\n",
              "\n",
              "/* Pipeline/ColumnTransformer-specific style */\n",
              "\n",
              "#sk-container-id-2 div.sk-label input.sk-toggleable__control:checked~label.sk-toggleable__label {\n",
              "  color: var(--sklearn-color-text);\n",
              "  background-color: var(--sklearn-color-unfitted-level-2);\n",
              "}\n",
              "\n",
              "#sk-container-id-2 div.sk-label.fitted input.sk-toggleable__control:checked~label.sk-toggleable__label {\n",
              "  background-color: var(--sklearn-color-fitted-level-2);\n",
              "}\n",
              "\n",
              "/* Estimator-specific style */\n",
              "\n",
              "/* Colorize estimator box */\n",
              "#sk-container-id-2 div.sk-estimator input.sk-toggleable__control:checked~label.sk-toggleable__label {\n",
              "  /* unfitted */\n",
              "  background-color: var(--sklearn-color-unfitted-level-2);\n",
              "}\n",
              "\n",
              "#sk-container-id-2 div.sk-estimator.fitted input.sk-toggleable__control:checked~label.sk-toggleable__label {\n",
              "  /* fitted */\n",
              "  background-color: var(--sklearn-color-fitted-level-2);\n",
              "}\n",
              "\n",
              "#sk-container-id-2 div.sk-label label.sk-toggleable__label,\n",
              "#sk-container-id-2 div.sk-label label {\n",
              "  /* The background is the default theme color */\n",
              "  color: var(--sklearn-color-text-on-default-background);\n",
              "}\n",
              "\n",
              "/* On hover, darken the color of the background */\n",
              "#sk-container-id-2 div.sk-label:hover label.sk-toggleable__label {\n",
              "  color: var(--sklearn-color-text);\n",
              "  background-color: var(--sklearn-color-unfitted-level-2);\n",
              "}\n",
              "\n",
              "/* Label box, darken color on hover, fitted */\n",
              "#sk-container-id-2 div.sk-label.fitted:hover label.sk-toggleable__label.fitted {\n",
              "  color: var(--sklearn-color-text);\n",
              "  background-color: var(--sklearn-color-fitted-level-2);\n",
              "}\n",
              "\n",
              "/* Estimator label */\n",
              "\n",
              "#sk-container-id-2 div.sk-label label {\n",
              "  font-family: monospace;\n",
              "  font-weight: bold;\n",
              "  display: inline-block;\n",
              "  line-height: 1.2em;\n",
              "}\n",
              "\n",
              "#sk-container-id-2 div.sk-label-container {\n",
              "  text-align: center;\n",
              "}\n",
              "\n",
              "/* Estimator-specific */\n",
              "#sk-container-id-2 div.sk-estimator {\n",
              "  font-family: monospace;\n",
              "  border: 1px dotted var(--sklearn-color-border-box);\n",
              "  border-radius: 0.25em;\n",
              "  box-sizing: border-box;\n",
              "  margin-bottom: 0.5em;\n",
              "  /* unfitted */\n",
              "  background-color: var(--sklearn-color-unfitted-level-0);\n",
              "}\n",
              "\n",
              "#sk-container-id-2 div.sk-estimator.fitted {\n",
              "  /* fitted */\n",
              "  background-color: var(--sklearn-color-fitted-level-0);\n",
              "}\n",
              "\n",
              "/* on hover */\n",
              "#sk-container-id-2 div.sk-estimator:hover {\n",
              "  /* unfitted */\n",
              "  background-color: var(--sklearn-color-unfitted-level-2);\n",
              "}\n",
              "\n",
              "#sk-container-id-2 div.sk-estimator.fitted:hover {\n",
              "  /* fitted */\n",
              "  background-color: var(--sklearn-color-fitted-level-2);\n",
              "}\n",
              "\n",
              "/* Specification for estimator info (e.g. \"i\" and \"?\") */\n",
              "\n",
              "/* Common style for \"i\" and \"?\" */\n",
              "\n",
              ".sk-estimator-doc-link,\n",
              "a:link.sk-estimator-doc-link,\n",
              "a:visited.sk-estimator-doc-link {\n",
              "  float: right;\n",
              "  font-size: smaller;\n",
              "  line-height: 1em;\n",
              "  font-family: monospace;\n",
              "  background-color: var(--sklearn-color-background);\n",
              "  border-radius: 1em;\n",
              "  height: 1em;\n",
              "  width: 1em;\n",
              "  text-decoration: none !important;\n",
              "  margin-left: 1ex;\n",
              "  /* unfitted */\n",
              "  border: var(--sklearn-color-unfitted-level-1) 1pt solid;\n",
              "  color: var(--sklearn-color-unfitted-level-1);\n",
              "}\n",
              "\n",
              ".sk-estimator-doc-link.fitted,\n",
              "a:link.sk-estimator-doc-link.fitted,\n",
              "a:visited.sk-estimator-doc-link.fitted {\n",
              "  /* fitted */\n",
              "  border: var(--sklearn-color-fitted-level-1) 1pt solid;\n",
              "  color: var(--sklearn-color-fitted-level-1);\n",
              "}\n",
              "\n",
              "/* On hover */\n",
              "div.sk-estimator:hover .sk-estimator-doc-link:hover,\n",
              ".sk-estimator-doc-link:hover,\n",
              "div.sk-label-container:hover .sk-estimator-doc-link:hover,\n",
              ".sk-estimator-doc-link:hover {\n",
              "  /* unfitted */\n",
              "  background-color: var(--sklearn-color-unfitted-level-3);\n",
              "  color: var(--sklearn-color-background);\n",
              "  text-decoration: none;\n",
              "}\n",
              "\n",
              "div.sk-estimator.fitted:hover .sk-estimator-doc-link.fitted:hover,\n",
              ".sk-estimator-doc-link.fitted:hover,\n",
              "div.sk-label-container:hover .sk-estimator-doc-link.fitted:hover,\n",
              ".sk-estimator-doc-link.fitted:hover {\n",
              "  /* fitted */\n",
              "  background-color: var(--sklearn-color-fitted-level-3);\n",
              "  color: var(--sklearn-color-background);\n",
              "  text-decoration: none;\n",
              "}\n",
              "\n",
              "/* Span, style for the box shown on hovering the info icon */\n",
              ".sk-estimator-doc-link span {\n",
              "  display: none;\n",
              "  z-index: 9999;\n",
              "  position: relative;\n",
              "  font-weight: normal;\n",
              "  right: .2ex;\n",
              "  padding: .5ex;\n",
              "  margin: .5ex;\n",
              "  width: min-content;\n",
              "  min-width: 20ex;\n",
              "  max-width: 50ex;\n",
              "  color: var(--sklearn-color-text);\n",
              "  box-shadow: 2pt 2pt 4pt #999;\n",
              "  /* unfitted */\n",
              "  background: var(--sklearn-color-unfitted-level-0);\n",
              "  border: .5pt solid var(--sklearn-color-unfitted-level-3);\n",
              "}\n",
              "\n",
              ".sk-estimator-doc-link.fitted span {\n",
              "  /* fitted */\n",
              "  background: var(--sklearn-color-fitted-level-0);\n",
              "  border: var(--sklearn-color-fitted-level-3);\n",
              "}\n",
              "\n",
              ".sk-estimator-doc-link:hover span {\n",
              "  display: block;\n",
              "}\n",
              "\n",
              "/* \"?\"-specific style due to the `<a>` HTML tag */\n",
              "\n",
              "#sk-container-id-2 a.estimator_doc_link {\n",
              "  float: right;\n",
              "  font-size: 1rem;\n",
              "  line-height: 1em;\n",
              "  font-family: monospace;\n",
              "  background-color: var(--sklearn-color-background);\n",
              "  border-radius: 1rem;\n",
              "  height: 1rem;\n",
              "  width: 1rem;\n",
              "  text-decoration: none;\n",
              "  /* unfitted */\n",
              "  color: var(--sklearn-color-unfitted-level-1);\n",
              "  border: var(--sklearn-color-unfitted-level-1) 1pt solid;\n",
              "}\n",
              "\n",
              "#sk-container-id-2 a.estimator_doc_link.fitted {\n",
              "  /* fitted */\n",
              "  border: var(--sklearn-color-fitted-level-1) 1pt solid;\n",
              "  color: var(--sklearn-color-fitted-level-1);\n",
              "}\n",
              "\n",
              "/* On hover */\n",
              "#sk-container-id-2 a.estimator_doc_link:hover {\n",
              "  /* unfitted */\n",
              "  background-color: var(--sklearn-color-unfitted-level-3);\n",
              "  color: var(--sklearn-color-background);\n",
              "  text-decoration: none;\n",
              "}\n",
              "\n",
              "#sk-container-id-2 a.estimator_doc_link.fitted:hover {\n",
              "  /* fitted */\n",
              "  background-color: var(--sklearn-color-fitted-level-3);\n",
              "}\n",
              "</style><div id=\"sk-container-id-2\" class=\"sk-top-container\"><div class=\"sk-text-repr-fallback\"><pre>LinearRegression()</pre><b>In a Jupyter environment, please rerun this cell to show the HTML representation or trust the notebook. <br />On GitHub, the HTML representation is unable to render, please try loading this page with nbviewer.org.</b></div><div class=\"sk-container\" hidden><div class=\"sk-item\"><div class=\"sk-estimator fitted sk-toggleable\"><input class=\"sk-toggleable__control sk-hidden--visually\" id=\"sk-estimator-id-2\" type=\"checkbox\" checked><label for=\"sk-estimator-id-2\" class=\"sk-toggleable__label fitted sk-toggleable__label-arrow fitted\">&nbsp;&nbsp;LinearRegression<a class=\"sk-estimator-doc-link fitted\" rel=\"noreferrer\" target=\"_blank\" href=\"https://scikit-learn.org/1.5/modules/generated/sklearn.linear_model.LinearRegression.html\">?<span>Documentation for LinearRegression</span></a><span class=\"sk-estimator-doc-link fitted\">i<span>Fitted</span></span></label><div class=\"sk-toggleable__content fitted\"><pre>LinearRegression()</pre></div> </div></div></div></div>"
            ]
          },
          "metadata": {},
          "execution_count": 26
        }
      ],
      "source": [
        "from sklearn.linear_model import LinearRegression\n",
        "from sklearn.metrics import mean_squared_error, mean_absolute_percentage_error\n",
        "\n",
        "linear_model = LinearRegression()\n",
        "linear_model.fit(x_train, y_train)"
      ]
    },
    {
      "cell_type": "markdown",
      "source": [
        "### Metrik Evaluasi Model\n",
        "\n",
        "#### 1. MSE (Mean Squared Error)\n",
        "- *Definisi*: MSE adalah rata-rata dari kuadrat selisih antara nilai yang diprediksi dan nilai aktual.\n",
        "- *Rumus*:\n",
        "  $$\n",
        "  \\text{MSE} = \\frac{1}{n} \\sum_{i=1}^{n} (y_i - \\hat{y}_i)^2\n",
        "  $$\n",
        "  Di mana $y_i$ adalah nilai aktual, $\\hat{y}_i$ adalah nilai prediksi, dan $n$ adalah jumlah data.\n",
        "\n",
        "#### 2. RMSE (Root Mean Squared Error)\n",
        "- *Definisi*: RMSE adalah akar kuadrat dari MSE, yang mengembalikan satuan ke skala yang sama dengan data asli.\n",
        "- *Rumus*:\n",
        "  $$\n",
        "  \\text{RMSE} = \\sqrt{\\text{MSE}}\n",
        "  $$\n",
        "\n",
        "#### 3. MAPE (Mean Absolute Percentage Error)\n",
        "- *Definisi*: MAPE mengukur kesalahan dalam prediksi sebagai persentase dari nilai aktual.\n",
        "- *Rumus*:\n",
        "  $$\n",
        "  \\text{MAPE} = \\frac{1}{n} \\sum_{i=1}^{n} \\left| \\frac{y_i - \\hat{y}_i}{y_i} \\right| \\times 100\\%\n",
        "  $$"
      ],
      "metadata": {
        "id": "kDVN0DVrneDM"
      },
      "id": "kDVN0DVrneDM"
    },
    {
      "cell_type": "code",
      "execution_count": null,
      "id": "fd27b73e-6adf-4185-bda3-d7c02f82cb66",
      "metadata": {
        "colab": {
          "base_uri": "https://localhost:8080/"
        },
        "id": "fd27b73e-6adf-4185-bda3-d7c02f82cb66",
        "outputId": "b692d29e-2df0-4468-d35e-c171d26d582c"
      },
      "outputs": [
        {
          "output_type": "stream",
          "name": "stdout",
          "text": [
            "Mean Squared Error (MSE): 6261135.711240153\n",
            "Root Mean Squared Error (RMSE): 2502.226151098288\n",
            "Mean Absolute Percentage Error (MAPE): 0.11458394589243626  %\n"
          ]
        }
      ],
      "source": [
        "# Melakukan prediksi\n",
        "y_pred = linear_model.predict(x_test)\n",
        "\n",
        "# Menghitung error\n",
        "mse = mean_squared_error(y_test, y_pred)\n",
        "rmse = np.sqrt(mse)\n",
        "mape = mean_absolute_percentage_error(y_test, y_pred)\n",
        "\n",
        "print(\"Mean Squared Error (MSE):\", mse)\n",
        "print(\"Root Mean Squared Error (RMSE):\", rmse)\n",
        "print(\"Mean Absolute Percentage Error (MAPE):\", mape, \" %\")"
      ]
    },
    {
      "cell_type": "code",
      "execution_count": null,
      "id": "aed4f787-1bc7-45c6-90ec-4f3335eac54c",
      "metadata": {
        "colab": {
          "base_uri": "https://localhost:8080/",
          "height": 419
        },
        "id": "aed4f787-1bc7-45c6-90ec-4f3335eac54c",
        "outputId": "411e232a-8b99-44d4-df92-317bd11ad6fe"
      },
      "outputs": [
        {
          "output_type": "error",
          "ename": "ValueError",
          "evalue": "non-broadcastable output operand with shape (45,1) doesn't match the broadcast shape (45,3)",
          "traceback": [
            "\u001b[0;31m---------------------------------------------------------------------------\u001b[0m",
            "\u001b[0;31mValueError\u001b[0m                                Traceback (most recent call last)",
            "\u001b[0;32m<ipython-input-28-c2a14633f368>\u001b[0m in \u001b[0;36m<cell line: 3>\u001b[0;34m()\u001b[0m\n\u001b[1;32m      1\u001b[0m \u001b[0;31m# Membuat grafik perbandingan\u001b[0m\u001b[0;34m\u001b[0m\u001b[0;34m\u001b[0m\u001b[0m\n\u001b[1;32m      2\u001b[0m \u001b[0mplt\u001b[0m\u001b[0;34m.\u001b[0m\u001b[0mfigure\u001b[0m\u001b[0;34m(\u001b[0m\u001b[0mfigsize\u001b[0m\u001b[0;34m=\u001b[0m\u001b[0;34m(\u001b[0m\u001b[0;36m10\u001b[0m\u001b[0;34m,\u001b[0m \u001b[0;36m6\u001b[0m\u001b[0;34m)\u001b[0m\u001b[0;34m)\u001b[0m\u001b[0;34m\u001b[0m\u001b[0;34m\u001b[0m\u001b[0m\n\u001b[0;32m----> 3\u001b[0;31m \u001b[0mplt\u001b[0m\u001b[0;34m.\u001b[0m\u001b[0mplot\u001b[0m\u001b[0;34m(\u001b[0m\u001b[0my_test\u001b[0m\u001b[0;34m.\u001b[0m\u001b[0mindex\u001b[0m\u001b[0;34m,\u001b[0m \u001b[0mscaler\u001b[0m\u001b[0;34m.\u001b[0m\u001b[0minverse_transform\u001b[0m\u001b[0;34m(\u001b[0m\u001b[0my_test\u001b[0m\u001b[0;34m.\u001b[0m\u001b[0mvalues\u001b[0m\u001b[0;34m.\u001b[0m\u001b[0mreshape\u001b[0m\u001b[0;34m(\u001b[0m\u001b[0;34m-\u001b[0m\u001b[0;36m1\u001b[0m\u001b[0;34m,\u001b[0m \u001b[0;36m1\u001b[0m\u001b[0;34m)\u001b[0m\u001b[0;34m)\u001b[0m\u001b[0;34m,\u001b[0m \u001b[0mlabel\u001b[0m\u001b[0;34m=\u001b[0m\u001b[0;34m'Aktual'\u001b[0m\u001b[0;34m,\u001b[0m \u001b[0mcolor\u001b[0m\u001b[0;34m=\u001b[0m\u001b[0;34m'blue'\u001b[0m\u001b[0;34m,\u001b[0m \u001b[0mmarker\u001b[0m\u001b[0;34m=\u001b[0m\u001b[0;34m'o'\u001b[0m\u001b[0;34m,\u001b[0m \u001b[0mlinestyle\u001b[0m\u001b[0;34m=\u001b[0m\u001b[0;34m'-'\u001b[0m\u001b[0;34m,\u001b[0m \u001b[0mmarkersize\u001b[0m\u001b[0;34m=\u001b[0m\u001b[0;36m4\u001b[0m\u001b[0;34m)\u001b[0m\u001b[0;34m\u001b[0m\u001b[0;34m\u001b[0m\u001b[0m\n\u001b[0m\u001b[1;32m      4\u001b[0m \u001b[0mplt\u001b[0m\u001b[0;34m.\u001b[0m\u001b[0mplot\u001b[0m\u001b[0;34m(\u001b[0m\u001b[0my_test\u001b[0m\u001b[0;34m.\u001b[0m\u001b[0mindex\u001b[0m\u001b[0;34m,\u001b[0m \u001b[0mscaler\u001b[0m\u001b[0;34m.\u001b[0m\u001b[0minverse_transform\u001b[0m\u001b[0;34m(\u001b[0m\u001b[0my_pred\u001b[0m\u001b[0;34m.\u001b[0m\u001b[0mreshape\u001b[0m\u001b[0;34m(\u001b[0m\u001b[0;34m-\u001b[0m\u001b[0;36m1\u001b[0m\u001b[0;34m,\u001b[0m \u001b[0;36m1\u001b[0m\u001b[0;34m)\u001b[0m\u001b[0;34m)\u001b[0m\u001b[0;34m,\u001b[0m \u001b[0mlabel\u001b[0m\u001b[0;34m=\u001b[0m\u001b[0;34m'Prediksi'\u001b[0m\u001b[0;34m,\u001b[0m \u001b[0mcolor\u001b[0m\u001b[0;34m=\u001b[0m\u001b[0;34m'orange'\u001b[0m\u001b[0;34m,\u001b[0m \u001b[0mmarker\u001b[0m\u001b[0;34m=\u001b[0m\u001b[0;34m'x'\u001b[0m\u001b[0;34m,\u001b[0m \u001b[0mlinestyle\u001b[0m\u001b[0;34m=\u001b[0m\u001b[0;34m'--'\u001b[0m\u001b[0;34m,\u001b[0m \u001b[0mmarkersize\u001b[0m\u001b[0;34m=\u001b[0m\u001b[0;36m4\u001b[0m\u001b[0;34m)\u001b[0m\u001b[0;34m\u001b[0m\u001b[0;34m\u001b[0m\u001b[0m\n\u001b[1;32m      5\u001b[0m \u001b[0mplt\u001b[0m\u001b[0;34m.\u001b[0m\u001b[0mtitle\u001b[0m\u001b[0;34m(\u001b[0m\u001b[0;34m'Perbandingan Nilai Aktual dan Prediksi Model Regresi Linear'\u001b[0m\u001b[0;34m)\u001b[0m\u001b[0;34m\u001b[0m\u001b[0;34m\u001b[0m\u001b[0m\n",
            "\u001b[0;32m/usr/local/lib/python3.10/dist-packages/sklearn/preprocessing/_data.py\u001b[0m in \u001b[0;36minverse_transform\u001b[0;34m(self, X, copy)\u001b[0m\n\u001b[1;32m   1105\u001b[0m         \u001b[0;32melse\u001b[0m\u001b[0;34m:\u001b[0m\u001b[0;34m\u001b[0m\u001b[0;34m\u001b[0m\u001b[0m\n\u001b[1;32m   1106\u001b[0m             \u001b[0;32mif\u001b[0m \u001b[0mself\u001b[0m\u001b[0;34m.\u001b[0m\u001b[0mwith_std\u001b[0m\u001b[0;34m:\u001b[0m\u001b[0;34m\u001b[0m\u001b[0;34m\u001b[0m\u001b[0m\n\u001b[0;32m-> 1107\u001b[0;31m                 \u001b[0mX\u001b[0m \u001b[0;34m*=\u001b[0m \u001b[0mself\u001b[0m\u001b[0;34m.\u001b[0m\u001b[0mscale_\u001b[0m\u001b[0;34m\u001b[0m\u001b[0;34m\u001b[0m\u001b[0m\n\u001b[0m\u001b[1;32m   1108\u001b[0m             \u001b[0;32mif\u001b[0m \u001b[0mself\u001b[0m\u001b[0;34m.\u001b[0m\u001b[0mwith_mean\u001b[0m\u001b[0;34m:\u001b[0m\u001b[0;34m\u001b[0m\u001b[0;34m\u001b[0m\u001b[0m\n\u001b[1;32m   1109\u001b[0m                 \u001b[0mX\u001b[0m \u001b[0;34m+=\u001b[0m \u001b[0mself\u001b[0m\u001b[0;34m.\u001b[0m\u001b[0mmean_\u001b[0m\u001b[0;34m\u001b[0m\u001b[0;34m\u001b[0m\u001b[0m\n",
            "\u001b[0;31mValueError\u001b[0m: non-broadcastable output operand with shape (45,1) doesn't match the broadcast shape (45,3)"
          ]
        },
        {
          "output_type": "display_data",
          "data": {
            "text/plain": [
              "<Figure size 1000x600 with 0 Axes>"
            ]
          },
          "metadata": {}
        }
      ],
      "source": [
        "# Membuat grafik perbandingan\n",
        "plt.figure(figsize=(10, 6))\n",
        "plt.plot(y_test.index, scaler.inverse_transform(y_test.values.reshape(-1, 1)), label='Aktual', color='blue', marker='o', linestyle='-', markersize=4)\n",
        "plt.plot(y_test.index, scaler.inverse_transform(y_pred.reshape(-1, 1)), label='Prediksi', color='orange', marker='x', linestyle='--', markersize=4)\n",
        "plt.title('Perbandingan Nilai Aktual dan Prediksi Model Regresi Linear')\n",
        "plt.xlabel('Tanggal')\n",
        "plt.ylabel('Harga Sell')\n",
        "plt.grid()\n",
        "plt.show()"
      ]
    },
    {
      "cell_type": "code",
      "execution_count": null,
      "id": "d733d82f-de56-47dd-bee1-a3de0ce50805",
      "metadata": {
        "id": "d733d82f-de56-47dd-bee1-a3de0ce50805"
      },
      "outputs": [],
      "source": [
        "# Mendapatkan nilai prediksi dari model linear\n",
        "last_row = windowed_data.iloc[-1][['xt-1', 'xt-2', 'xt-3']].values.reshape(1, -1)\n",
        "predicted_value_normalized = linear_model.predict(last_row)\n",
        "predicted_value = scaler.inverse_transform(predicted_value_normalized.reshape(-1, 1))\n",
        "\n",
        "# Mendapatkan jumlah penumpang bulan ini\n",
        "last_passenger_count = scaler.inverse_transform(normalized_df[['PassengerCount']].iloc[-1].values.reshape(-1, 1))\n",
        "\n",
        "# Menghitung persentase perubahan\n",
        "percentage_change = ((predicted_value[0][0] - last_passenger_count[0][0]) / last_passenger_count[0][0]) * 100\n",
        "\n",
        "# Menentukan tanda positif atau negatif untuk perubahan\n",
        "change_sign = '+' if percentage_change > 0 else ''\n",
        "\n",
        "# Menampilkan output tanpa pemisah\n",
        "print(f'Jumlah penumpang bulan ini: {int(last_passenger_count[0][0])}')\n",
        "print(f'Prediksi jumlah penumpang untuk bulan esok: {int(predicted_value[0][0])} ({change_sign}{percentage_change:.2f}%)')\n"
      ]
    },
    {
      "cell_type": "markdown",
      "id": "e7c639d8-3fc5-4ca7-8b2b-040e59f46d6a",
      "metadata": {
        "id": "e7c639d8-3fc5-4ca7-8b2b-040e59f46d6a"
      },
      "source": [
        "## Regresi Linear dengan Ensemble Bagging"
      ]
    },
    {
      "cell_type": "code",
      "execution_count": null,
      "id": "2e06f04c-35bf-4882-ad3f-2c6e7f58986d",
      "metadata": {
        "id": "2e06f04c-35bf-4882-ad3f-2c6e7f58986d"
      },
      "outputs": [],
      "source": [
        "from sklearn.ensemble import BaggingRegressor\n",
        "base_model = LinearRegression()\n",
        "bagging_model = BaggingRegressor(estimator=base_model, n_estimators=10, bootstrap=True)\n",
        "bagging_model.fit(x_train, y_train)\n",
        "y_pred = bagging_model.predict(x_test)\n",
        "\n",
        "mse = mean_squared_error(y_test, y_pred)\n",
        "rmse = np.sqrt(mse)\n",
        "mape = mean_absolute_percentage_error(y_test, y_pred)\n",
        "\n",
        "print(f'Mean Squared Error: {mse}')\n",
        "print(f'Root Mean Squared Error: {rmse}')\n",
        "print(f'Mean Absolute Percentage Error (MAPE): {mape} %')"
      ]
    },
    {
      "cell_type": "code",
      "execution_count": null,
      "id": "bc074275-0fd1-4851-81b4-117ede6b3f2e",
      "metadata": {
        "id": "bc074275-0fd1-4851-81b4-117ede6b3f2e"
      },
      "outputs": [],
      "source": [
        "# Membuat grafik perbandingan\n",
        "plt.figure(figsize=(10, 6))\n",
        "plt.plot(y_test.index, scaler.inverse_transform(y_test.values.reshape(-1, 1)), label='Aktual', color='blue', marker='o', linestyle='-', markersize=4)\n",
        "plt.plot(y_test.index, scaler.inverse_transform(y_pred.reshape(-1, 1)), label='Prediksi', color='orange', marker='x', linestyle='--', markersize=4)\n",
        "plt.title('Perbandingan Nilai Aktual dan Prediksi Model Regresi Linear Ensemble Bagging')\n",
        "plt.xlabel('Tanggal')\n",
        "plt.ylabel('Harga Sell')\n",
        "plt.grid()\n",
        "plt.show()"
      ]
    },
    {
      "cell_type": "code",
      "execution_count": null,
      "id": "32bee385-ac26-4ed9-a5b5-bf6ab7c853f8",
      "metadata": {
        "id": "32bee385-ac26-4ed9-a5b5-bf6ab7c853f8"
      },
      "outputs": [],
      "source": [
        "last_row = windowed_data.iloc[-1][['xt-1', 'xt-2', 'xt-3']].values.reshape(1, -1)\n",
        "predicted_value_normalized = bagging_model.predict(last_row)\n",
        "predicted_value = scaler.inverse_transform(predicted_value_normalized.reshape(-1, 1)).round().astype(int)\n",
        "last_count = scaler.inverse_transform(normalized_df[['PassengerCount']].iloc[-1].values.reshape(-1, 1)).round().astype(int)\n",
        "percentage_change = ((predicted_value[0][0] - last_count[0][0]) / last_count[0][0]) * 100\n",
        "\n",
        "if percentage_change > 0:\n",
        "    change_sign = '+'\n",
        "else:\n",
        "    change_sign = ''\n",
        "\n",
        "print(f'Jumlah penumpang bulan ini: {last_count[0][0]}')\n",
        "print(f'Prediksi jumlah penumpang untuk bulan depan: {predicted_value[0][0]} ({change_sign}{percentage_change:.2f}%)')\n"
      ]
    },
    {
      "cell_type": "markdown",
      "id": "926b2a51-fef0-4d68-9e53-6cd3eaf49fd6",
      "metadata": {
        "id": "926b2a51-fef0-4d68-9e53-6cd3eaf49fd6"
      },
      "source": [
        "### Grid Search"
      ]
    },
    {
      "cell_type": "code",
      "execution_count": null,
      "id": "289e76c0-eca5-4c2e-bf8f-340c337229e7",
      "metadata": {
        "id": "289e76c0-eca5-4c2e-bf8f-340c337229e7"
      },
      "outputs": [],
      "source": [
        "def rmse(y_true, y_pred):\n",
        "    return np.sqrt(mean_squared_error(y_true, y_pred))\n",
        "\n",
        "def grid_search(input_df, target_df, splits, estimators, bootstrap, max_samples):\n",
        "    best_rmse = float('inf')\n",
        "    best_params = None\n",
        "    i = 0\n",
        "    for split in splits:\n",
        "        x_train, y_train, x_test, y_test = split_data(input_df, target_df, split)\n",
        "        for estimator in estimators:\n",
        "            for bootstrap in bootstraps:\n",
        "                for max_sample in max_samples:\n",
        "                    base_model = LinearRegression()\n",
        "                    bagging_model = BaggingRegressor(estimator=base_model, n_estimators=estimator, bootstrap=bootstrap, max_samples=max_sample)\n",
        "                    bagging_model.fit(x_train, y_train.values.ravel())\n",
        "                    y_pred = bagging_model.predict(x_test)\n",
        "                    i+=1\n",
        "                    current_rmse = rmse(y_test, y_pred)\n",
        "                    #print(f'Model {i} split: {split}, estimator: {estimator}, bootstrap: {bootstrap}, max sample: {max_sample}, RMSE: {current_rmse}')\n",
        "                    if current_rmse < best_rmse:\n",
        "                        best_rmse = current_rmse\n",
        "                        best_mse = mean_squared_error(y_test, y_pred)\n",
        "                        best_mape = mean_absolute_percentage_error(y_test, y_pred)\n",
        "                        best_model = bagging_model\n",
        "                        best_params = {'estimator': estimator, 'bootstrap': bootstrap, 'train_sample': split, 'max_sample': max_sample}\n",
        "                        y_test = y_test\n",
        "                        y_pred = y_pred\n",
        "    return best_params, best_rmse, best_mse, best_mape, best_model, y_test, y_pred\n",
        "\n",
        "# Parameter untuk Grid Search\n",
        "splits = [0.7, 0.75, 0.8, 0.85, 0.9]\n",
        "estimators = [10, 20, 50, 100]\n",
        "bootstraps = [True, False]\n",
        "max_samples = [0.8, 0.9, 1.0]\n",
        "\n",
        "best_params, best_rmse, best_mse, best_mape, best_model, y_test, y_pred = grid_search(input_df, target_df, splits, estimators, bootstraps, max_samples)"
      ]
    },
    {
      "cell_type": "markdown",
      "id": "12202325-588a-45dc-8eb1-e1eaa9cef6ee",
      "metadata": {
        "id": "12202325-588a-45dc-8eb1-e1eaa9cef6ee"
      },
      "source": [
        "Dari 120 model, didapatkan model terbaik dengan parameter berikut"
      ]
    },
    {
      "cell_type": "code",
      "execution_count": null,
      "id": "127e816c-607b-469e-89be-9528738ee561",
      "metadata": {
        "id": "127e816c-607b-469e-89be-9528738ee561"
      },
      "outputs": [],
      "source": [
        "# Parameter terbaik\n",
        "print(f'Best parameters: {best_params}')\n",
        "print(f'Best RMSE: {best_rmse}')\n",
        "print(f'Best MSE: {\"{:.20f}\".format(best_mse)}')\n",
        "print(f'Best MAPE: {best_mape}')"
      ]
    },
    {
      "cell_type": "code",
      "source": [
        "import pickle\n",
        "\n",
        "# Menyimpan model terbaik ke file\n",
        "with open('best_bagging_model.sav', 'wb') as model_file:\n",
        "    pickle.dump(best_model, model_file)\n",
        "\n",
        "print(\"Model terbaik berhasil disimpan sebagai 'best_bagging_model.sav'\")\n"
      ],
      "metadata": {
        "id": "co8efSG4xuRi"
      },
      "id": "co8efSG4xuRi",
      "execution_count": null,
      "outputs": []
    },
    {
      "cell_type": "code",
      "source": [
        "# Membuat grafik perbandingan\n",
        "plt.figure(figsize=(10, 6))\n",
        "plt.plot(y_test.index, scaler.inverse_transform(y_test.values.reshape(-1, 1)), label='Aktual', color='blue', marker='o', linestyle='-', markersize=4)\n",
        "plt.plot(y_test.index, scaler.inverse_transform(y_pred.reshape(-1, 1)), label='Prediksi', color='orange', marker='x', linestyle='--', markersize=4)\n",
        "plt.title('Perbandingan Nilai Aktual dan Prediksi Model Regresi Linear Ensemble Bagging terbaik')\n",
        "plt.xlabel('Tanggal')\n",
        "plt.ylabel('Harga Sell')\n",
        "plt.grid()\n",
        "plt.show()"
      ],
      "metadata": {
        "id": "NgvwR3eRoCPc"
      },
      "id": "NgvwR3eRoCPc",
      "execution_count": null,
      "outputs": []
    },
    {
      "cell_type": "markdown",
      "id": "7be9afa5-d9ba-4f71-a326-4dbaa74ce116",
      "metadata": {
        "id": "7be9afa5-d9ba-4f71-a326-4dbaa74ce116"
      },
      "source": [
        "### Uji Coba"
      ]
    },
    {
      "cell_type": "code",
      "execution_count": null,
      "id": "dc092774-ad36-4cff-a9d1-f0082475cd15",
      "metadata": {
        "id": "dc092774-ad36-4cff-a9d1-f0082475cd15"
      },
      "outputs": [],
      "source": [
        "import numpy as np\n",
        "import pandas as pd\n",
        "\n",
        "# Example data for the last three months of passenger counts\n",
        "sell_1 = 34666  # Passenger count for this month\n",
        "sell_2 = 36640  # Passenger count for 1 month ago\n",
        "sell_3 = 33832  # Passenger count for 2 months ago\n",
        "\n",
        "# Transforming the values using scaler (assuming scaler is predefined)\n",
        "last_row = np.array([\n",
        "    scaler.transform([[sell_1]]).flatten()[0],\n",
        "    scaler.transform([[sell_2]]).flatten()[0],\n",
        "    scaler.transform([[sell_3]]).flatten()[0]\n",
        "]).reshape(1, -1)\n",
        "\n",
        "last_row_df = pd.DataFrame(last_row, columns=['xt-1', 'xt-2', 'xt-3'])\n",
        "\n",
        "# Predicting passenger count\n",
        "predicted_value_normalized = best_model.predict(last_row_df)\n",
        "predicted_value = scaler.inverse_transform(predicted_value_normalized.reshape(-1, 1))\n",
        "\n",
        "# Calculating percentage change\n",
        "last_count = sell_1\n",
        "percentage_change = ((predicted_value[0][0] - last_count) / last_count) * 100\n",
        "change_sign = '+' if percentage_change > 0 else ''\n",
        "\n",
        "# Output the result without any formatting\n",
        "print(f'Jumlah penumpang bulan ini: {int(last_count)}')\n",
        "print(f'Prediksi jumlah penumpang untuk bulan depan: {int(predicted_value[0][0])} ({change_sign}{percentage_change:.2f}%)')\n"
      ]
    },
    {
      "cell_type": "markdown",
      "source": [
        "## Simpan Model"
      ],
      "metadata": {
        "id": "LAS7d2i5MvTO"
      },
      "id": "LAS7d2i5MvTO"
    },
    {
      "cell_type": "code",
      "execution_count": null,
      "id": "5057e3d8-32da-4070-8041-dd2288d4837d",
      "metadata": {
        "id": "5057e3d8-32da-4070-8041-dd2288d4837d"
      },
      "outputs": [],
      "source": [
        "from sklearn.preprocessing import StandardScaler\n",
        "import pickle\n",
        "\n",
        "# Misalkan X_train adalah data fitur untuk pelatihan\n",
        "scaler = StandardScaler()\n",
        "scaler.fit(x_train)  # Melatih scaler hanya pada X_train\n",
        "\n",
        "# Simpan scaler ke file\n",
        "with open('scaler.sav', 'wb') as scaler_file:\n",
        "    pickle.dump(scaler, scaler_file)\n",
        "\n",
        "print(\"Scaler berhasil disimpan sebagai 'scaler.sav'\")\n"
      ]
    }
  ],
  "metadata": {
    "kernelspec": {
      "display_name": "Python 3 (ipykernel)",
      "language": "python",
      "name": "python3"
    },
    "language_info": {
      "codemirror_mode": {
        "name": "ipython",
        "version": 3
      },
      "file_extension": ".py",
      "mimetype": "text/x-python",
      "name": "python",
      "nbconvert_exporter": "python",
      "pygments_lexer": "ipython3",
      "version": "3.12.6"
    },
    "colab": {
      "provenance": []
    }
  },
  "nbformat": 4,
  "nbformat_minor": 5
}